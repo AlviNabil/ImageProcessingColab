{
 "cells": [
  {
   "cell_type": "code",
   "execution_count": 1,
   "metadata": {},
   "outputs": [],
   "source": [
    "import numpy as np\n",
    "import cv2\n",
    "import matplotlib.pyplot as plt\n",
    "from IPython import display"
   ]
  },
  {
   "cell_type": "code",
   "execution_count": 2,
   "metadata": {},
   "outputs": [],
   "source": [
    "sigma = 3\n",
    "v = 7\n",
    "v = v//2"
   ]
  },
  {
   "cell_type": "code",
   "execution_count": 3,
   "metadata": {},
   "outputs": [
    {
     "data": {
      "image/png": "[encoded data removed]",
      "text/plain": [
       "<Figure size 432x288 with 1 Axes>"
      ]
     },
     "metadata": {
      "needs_background": "light"
     },
     "output_type": "display_data"
    }
   ],
   "source": [
    "gf = np.zeros((2*v+1, 2*v+1), dtype=\"float64\")\n",
    "\n",
    "for i in range(-v, v+1):\n",
    "    for j in range (-v, v+1):\n",
    "        gf[i+v][j+v]=np.exp(-(pow(i,2)+pow(j,2))/(2*pow(sigma,2)))\n",
    "plt.imshow(gf)\n",
    "gf[0,0]=gf[0,1]=gf[1,0]=gf[1,1]=0.002\n",
    "gf[0,6]=0\n",
    "gf[6,0]=1"
   ]
  },
  {
   "cell_type": "code",
   "execution_count": 4,
   "metadata": {},
   "outputs": [
    {
     "data": {
      "text/plain": [
       "<matplotlib.image.AxesImage at 0x1983cdad150>"
      ]
     },
     "execution_count": 4,
     "metadata": {},
     "output_type": "execute_result"
    },
    {
     "data": {
      "image/png": "[encoded data removed]",
      "text/plain": [
       "<Figure size 432x288 with 1 Axes>"
      ]
     },
     "metadata": {
      "needs_background": "light"
     },
     "output_type": "display_data"
    }
   ],
   "source": [
    "plt.imshow(gf)"
   ]
  },
  {
   "cell_type": "code",
   "execution_count": 5,
   "metadata": {},
   "outputs": [
    {
     "ename": "KeyboardInterrupt",
     "evalue": "",
     "output_type": "error",
     "traceback": [
      "\u001b[1;31m---------------------------------------------------------------------------\u001b[0m",
      "\u001b[1;31mKeyboardInterrupt\u001b[0m                         Traceback (most recent call last)",
      "\u001b[1;32me:\\DIP\\test\\filter_movement.ipynb Cell 5'\u001b[0m in \u001b[0;36m<cell line: 6>\u001b[1;34m()\u001b[0m\n\u001b[0;32m     <a href='vscode-notebook-cell:/e%3A/DIP/test/filter_movement.ipynb#ch0000004?line=10'>11</a>\u001b[0m display\u001b[39m.\u001b[39mdisplay(plt\u001b[39m.\u001b[39mgcf())\n\u001b[0;32m     <a href='vscode-notebook-cell:/e%3A/DIP/test/filter_movement.ipynb#ch0000004?line=11'>12</a>\u001b[0m display\u001b[39m.\u001b[39mclear_output(wait\u001b[39m=\u001b[39m\u001b[39mTrue\u001b[39;00m)\n\u001b[1;32m---> <a href='vscode-notebook-cell:/e%3A/DIP/test/filter_movement.ipynb#ch0000004?line=12'>13</a>\u001b[0m time\u001b[39m.\u001b[39;49msleep(\u001b[39m.3\u001b[39;49m)\n",
      "\u001b[1;31mKeyboardInterrupt\u001b[0m: "
     ]
    },
    {
     "data": {
      "image/png": "[encoded data removed]",
      "text/plain": [
       "<Figure size 432x288 with 1 Axes>"
      ]
     },
     "metadata": {
      "needs_background": "light"
     },
     "output_type": "display_data"
    }
   ],
   "source": [
    "import time\n",
    "import copy\n",
    "figure, ax = plt.subplots(1,1)\n",
    "bf = copy.copy(gf)\n",
    "im = ax.imshow(bf)\n",
    "for p in range(-v, v+1):\n",
    "    for q in range(-v, v+1):\n",
    "        bf = copy.copy(gf)\n",
    "        bf[p+v,q+v] = 0\n",
    "        im.set_data(bf)\n",
    "        display.display(plt.gcf())\n",
    "        display.clear_output(wait=True)\n",
    "        time.sleep(.3)"
   ]
  },
  {
   "cell_type": "code",
   "execution_count": null,
   "metadata": {},
   "outputs": [],
   "source": [
    "import random\n",
    "\n",
    "output = np.zeros((20,20), dtype=\"float64\")\n",
    "plt.imshow(output)\n",
    "for i in range(output.shape[0]):\n",
    "    for j in range(output.shape[1]):\n",
    "        output[i,j] = random.random()\n",
    "plt.imshow(output)\n",
    "mimg = cv2.copyMakeBorder(output, v,v,v,v, cv2.BORDER_REPLICATE)"
   ]
  },
  {
   "cell_type": "code",
   "execution_count": null,
   "metadata": {},
   "outputs": [],
   "source": [
    "plt.imshow(mimg)\n",
    "print(mimg.shape)\n",
    "print(v)"
   ]
  },
  {
   "cell_type": "markdown",
   "metadata": {},
   "source": [
    "#Correlation Filter Movement"
   ]
  },
  {
   "cell_type": "code",
   "execution_count": null,
   "metadata": {},
   "outputs": [
    {
     "data": {
      "image/png": "[encoded data removed]",
      "text/plain": [
       "<Figure size 432x288 with 1 Axes>"
      ]
     },
     "metadata": {
      "needs_background": "light"
     },
     "output_type": "display_data"
    }
   ],
   "source": [
    "import copy\n",
    "figure, ax = plt.subplots(1,1)\n",
    "for i in range(mimg.shape[0]-2*v):\n",
    "    for j in range(mimg.shape[1]-2*v):\n",
    "        test = copy.copy(mimg)\n",
    "        for p in range(-v, v+1):\n",
    "            for q in range(-v, v+1):\n",
    "                # print(\"i=>\",i,\"\\tj=>\",j,\"\\tp+v\",p+v,\"\\tq+v\",q+v)\n",
    "                test[i+(p+v)][j+(q+v)]=gf[p+v][q+v]\n",
    "                \n",
    "        im = ax.imshow(test)\n",
    "        im.set_data(test)\n",
    "        display.display(plt.gcf())\n",
    "        display.clear_output(wait=True)\n",
    "        time.sleep(0)\n",
    "        \n",
    "        "
   ]
  },
  {
   "cell_type": "markdown",
   "metadata": {},
   "source": [
    "#Convolution Filter Movement"
   ]
  },
  {
   "cell_type": "code",
   "execution_count": null,
   "metadata": {},
   "outputs": [],
   "source": [
    "import copy\n",
    "figure, ax = plt.subplots(1,1)\n",
    "for i in range(2*v,mimg.shape[0]):\n",
    "    for j in range(2*v,mimg.shape[1]):\n",
    "        test = copy.copy(mimg)\n",
    "        for p in range(-v, v+1):\n",
    "            for q in range(-v, v+1):\n",
    "                # print(\"i=>\",i,\"\\tj=>\",j,\"\\tp+v\",p+v,\"\\tq+v\",q+v)\n",
    "                test[i-(p+v)][j-(q+v)]=gf[p+v][q+v]\n",
    "                \n",
    "        im = ax.imshow(test)\n",
    "        im.set_data(test)\n",
    "        display.display(plt.gcf())\n",
    "        display.clear_output(wait=True)\n",
    "        time.sleep(0)\n",
    "        "
   ]
  }
 ],
 "metadata": {
  "interpreter": {
   "hash": "1ceb09c6b3737ad53894c9393e92928c149c7f12130a616a00a3b8b3c19a1fc2"
  },
  "kernelspec": {
   "display_name": "Python 3.10.0 ('venv': venv)",
   "language": "python",
   "name": "python3"
  },
  "language_info": {
   "codemirror_mode": {
    "name": "ipython",
    "version": 3
   },
   "file_extension": ".py",
   "mimetype": "text/x-python",
   "name": "python",
   "nbconvert_exporter": "python",
   "pygments_lexer": "ipython3",
   "version": "3.10.0"
  },
  "orig_nbformat": 4
 },
 "nbformat": 4,
 "nbformat_minor": 2
}
