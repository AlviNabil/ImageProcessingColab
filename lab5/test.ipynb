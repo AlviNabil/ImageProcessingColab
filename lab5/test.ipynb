{
 "cells": [
  {
   "cell_type": "code",
   "execution_count": 6,
   "metadata": {},
   "outputs": [],
   "source": [
    "#Erosion dialation\n",
    "\n",
    "import cv2\n",
    "import math\n",
    "import numpy as np\n",
    "from copy import deepcopy as dpc\n",
    "\n",
    "flag_d = 0\n",
    "flag_e = 1\n",
    "\n",
    "se = np.array([[1,1]])\n",
    "se_r = se.shape[0]\n",
    "pad = math.floor(se_r/2)\n",
    "\n",
    "inp = cv2.imread('../img/hand.jpg')\n",
    "\n",
    "gray = cv2.cvtColor(dpc(inp),cv2.COLOR_BGR2GRAY)\n",
    "(tresh, img) = cv2.threshold(gray,100,255,cv2.THRESH_BINARY)\n",
    "img = img/255\n",
    "# img = np.zeros((6,6), np.float32)\n",
    "# img[1,2]=img[1,3]=img[2,4]=img[3,2]=img[3,3]=img[4,4]=img[4,1]=1\n",
    "# img = img/255\n",
    "img_r = img.shape[0]\n",
    "img_c = img.shape[1]\n",
    "\n",
    "out_e = np.zeros_like(img)\n",
    "out_d = np.zeros_like(img)\n",
    "\n",
    "#erosion\n",
    "for i in range(img_r-math.ceil(se_r/2)):\n",
    "    for j in range(img_c-math.ceil(se_r/2)):\n",
    "        for x in range(se_r):\n",
    "            for y in range(se_r):\n",
    "                if img[i+x][j+y] != se[x][y]:\n",
    "                    flag_e = 0\n",
    "        if(flag_e):\n",
    "            out_e[i+pad][j+pad] = 1\n",
    "        else:\n",
    "            out_e[i+pad][j+pad] = 0\n",
    "        flag_e = 1\n",
    "\n",
    "#dialation\n",
    "for i in range(img_r-math.ceil(se_r/2)):\n",
    "    for j in range(img_c-math.ceil(se_r/2)):\n",
    "        for x in range(se_r):\n",
    "            for y in range(se_r):\n",
    "                if img[i+x][j+y] == se[x][y] and img[i+x][j+y] == 1:\n",
    "                    flag_d = 1\n",
    "        if(flag_d):\n",
    "            out_d[i+pad][j+pad] = 1\n",
    "        else:\n",
    "            out_d[i+pad][j+pad] = 0\n",
    "        flag_d = 0\n",
    "\n",
    "cv2.imshow(\"input\",img)\n",
    "cv2.imshow(\"erosion\",out_e)\n",
    "cv2.imshow(\"dial\",out_d)\n",
    "cv2.waitKey(0)\n",
    "cv2.destroyAllWindows()\n"
   ]
  }
 ],
 "metadata": {
  "interpreter": {
   "hash": "57d011e0b9c556e1e480a37a414edaa07ffe0a21f9b36ce7b9ac58ceb90fbbce"
  },
  "kernelspec": {
   "display_name": "Python 3.10.0 ('venv': venv)",
   "language": "python",
   "name": "python3"
  },
  "language_info": {
   "codemirror_mode": {
    "name": "ipython",
    "version": 3
   },
   "file_extension": ".py",
   "mimetype": "text/x-python",
   "name": "python",
   "nbconvert_exporter": "python",
   "pygments_lexer": "ipython3",
   "version": "3.10.0"
  },
  "orig_nbformat": 4
 },
 "nbformat": 4,
 "nbformat_minor": 2
}
