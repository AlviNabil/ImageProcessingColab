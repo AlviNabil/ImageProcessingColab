{
 "cells": [
  {
   "cell_type": "code",
   "execution_count": 2,
   "metadata": {},
   "outputs": [],
   "source": [
    "import numpy as np\n",
    "import cv2 \n",
    "import matplotlib.pyplot as plt"
   ]
  },
  {
   "cell_type": "code",
   "execution_count": null,
   "metadata": {},
   "outputs": [],
   "source": [
    "img = cv2.imread(\"../img/hand.jpg\", cv2.IMREAD_GRAYSCALE)\n",
    "\n",
    "\n",
    "plt.imshow(img, \"gray\")"
   ]
  },
  {
   "cell_type": "code",
   "execution_count": null,
   "metadata": {},
   "outputs": [],
   "source": [
    "t, img = cv2.threshold(img, 100, 255, cv2.THRESH_BINARY)\n",
    "img=img//255\n",
    "plt.imshow(img,\"gray\")"
   ]
  },
  {
   "cell_type": "markdown",
   "metadata": {},
   "source": [
    "Erosion"
   ]
  },
  {
   "cell_type": "code",
   "execution_count": null,
   "metadata": {},
   "outputs": [],
   "source": [
    "op = np.zeros((img.shape), np.float32)"
   ]
  },
  {
   "cell_type": "code",
   "execution_count": null,
   "metadata": {},
   "outputs": [],
   "source": [
    "# def _erosion(img, kernel):\n",
    "#     kw = kernel.shape[1]//2\n",
    "#     kh = kernel.shape[0]//2\n",
    "#     op = np.zeros((img.shape), np.float32)\n",
    "#     for i in range(kh,img.shape[0]-kh):\n",
    "#         for  j in range(kw,img.shape[1]-kw):\n",
    "        \n",
    "#             flag = 1\n",
    "#             for x in range(-kh, kh+1):\n",
    "#                 for y in range(-kw, kw+1):\n",
    "                    \n",
    "#                     if (i+x)<img.shape[0] and (i+x)>=0 and (j+y)<img.shape[1] and (j+y)>=0:\n",
    "                        \n",
    "#                         if kernel[x+kh][y+kw]!=img[i+x][y+j]:\n",
    "#                             flag=0\n",
    "                            \n",
    "#             if(flag==0):\n",
    "#                 op[i, j]=0\n",
    "#             else:\n",
    "#                 op[i, j]=1\n",
    "#     return op"
   ]
  },
  {
   "cell_type": "code",
   "execution_count": 40,
   "metadata": {},
   "outputs": [],
   "source": [
    "def _erosion(img, kernel):\n",
    "    kh = kernel.shape[0]//2\n",
    "    kw = kernel.shape[1]//2\n",
    "    op = np.zeros_like(img)\n",
    "    m, n = img.shape\n",
    "\n",
    "\n",
    "    for i in range(kh,m-kh):\n",
    "        for j in range(kw,n-kw):\n",
    "            flag = 1\n",
    "            for x in range(-kh, kh+1):\n",
    "                for y in range(-kw, kw+1):\n",
    "                    if (i+x)<img.shape[0] and (i+x)>=0 and (j+y)<img.shape[1] and (j+y)>=0:\n",
    "                        if kernel[x+kh][y+kw]==2:\n",
    "                            continue\n",
    "                        if kernel[x+kh][y+kw]!=img[i+x][j+y]:\n",
    "                            flag=0\n",
    "            if (flag):\n",
    "                op[i][j]=1\n",
    "            else:\n",
    "                op[i][j]=0\n",
    "    return op"
   ]
  },
  {
   "cell_type": "code",
   "execution_count": 33,
   "metadata": {},
   "outputs": [],
   "source": [
    "def _dilation(img, kernel):\n",
    "    kh = kernel.shape[0]//2\n",
    "    kw = kernel.shape[1]//2\n",
    "    op = np.zeros_like(img)\n",
    "    m, n = img.shape\n",
    "\n",
    "\n",
    "    for i in range(m):\n",
    "        for j in range(n):\n",
    "            flag = 0\n",
    "            for x in range(-kh, kh+1):\n",
    "                for y in range(-kw, kw+1):\n",
    "                    if (i-x)<img.shape[0] and (i-x)>=0 and (j-y)<img.shape[1] and (j-y)>=0:\n",
    "                        if kernel[x+kh][y+kw]==2:\n",
    "                            continue\n",
    "                        if kernel[x+kh][y+kw]==img[i-x][j-y]:\n",
    "                            flag=1\n",
    "            if (flag):\n",
    "                op[i][j]=1\n",
    "            else:\n",
    "                op[i][j]=0\n",
    "    return op"
   ]
  },
  {
   "cell_type": "code",
   "execution_count": 50,
   "metadata": {},
   "outputs": [
    {
     "name": "stdout",
     "output_type": "stream",
     "text": [
      "[[0 0 1 1 1 1]\n",
      " [1 1 1 1 1 1]\n",
      " [1 1 1 0 0 0]\n",
      " [1 1 1 0 0 0]\n",
      " [1 1 1 0 0 0]]\n",
      "[[1 1 1]\n",
      " [1 1 1]\n",
      " [1 1 1]]\n"
     ]
    }
   ],
   "source": [
    "img = np.ones((5,6), np.uint8)\n",
    "img[0,0]=img[0,1]=img[2:5,3:6]=0\n",
    "print(img)\n",
    "kernel = np.ones((3,3), np.uint8)\n",
    "print(kernel)"
   ]
  },
  {
   "cell_type": "code",
   "execution_count": 51,
   "metadata": {},
   "outputs": [
    {
     "name": "stdout",
     "output_type": "stream",
     "text": [
      "[[0 0 0 0 0 0]\n",
      " [0 0 0 0 0 0]\n",
      " [0 1 0 0 0 0]\n",
      " [0 1 0 0 0 0]\n",
      " [0 0 0 0 0 0]]\n"
     ]
    }
   ],
   "source": [
    "output = _erosion(img, kernel)\n",
    "print(output)"
   ]
  },
  {
   "cell_type": "code",
   "execution_count": null,
   "metadata": {},
   "outputs": [],
   "source": []
  },
  {
   "cell_type": "code",
   "execution_count": 12,
   "metadata": {},
   "outputs": [
    {
     "name": "stdout",
     "output_type": "stream",
     "text": [
      "[[1 1 1 1 1 1]\n",
      " [1 1 0 0 1 1]\n",
      " [1 0 0 0 0 1]\n",
      " [1 1 0 0 1 1]\n",
      " [1 1 1 1 1 1]]\n",
      "[[1]\n",
      " [1]\n",
      " [1]]\n"
     ]
    }
   ],
   "source": [
    "img = np.zeros((5,6), np.uint8)\n",
    "img[:,0:6:5]=img[0:5:4, :]=img[1,1] =img[1,4]=img[3,1]=img[3,4]= 1\n",
    "print(img)\n",
    "kernel = np.ones((3,1), np.uint8)\n",
    "print(kernel)"
   ]
  },
  {
   "cell_type": "code",
   "execution_count": 48,
   "metadata": {},
   "outputs": [
    {
     "data": {
      "text/plain": [
       "<matplotlib.image.AxesImage at 0x1c2dff56b00>"
      ]
     },
     "execution_count": 48,
     "metadata": {},
     "output_type": "execute_result"
    },
    {
     "data": {
      "image/png": "[encoded data removed]",
      "text/plain": [
       "<Figure size 432x288 with 1 Axes>"
      ]
     },
     "metadata": {
      "needs_background": "light"
     },
     "output_type": "display_data"
    }
   ],
   "source": [
    "img = np.zeros((9,9), np.uint8)\n",
    "\n",
    "img[2:7,2:5]=img[4:7,5:7]=1\n",
    "# print(img)\n",
    "kernel = np.zeros((3,3), np.uint8)\n",
    "kernel[0,0]=kernel[0,2]=kernel[2,0]=kernel[2,2]=2\n",
    "kernel[:,1]=kernel[1,:]=1\n",
    "plt.imshow(kernel)\n",
    "plt.imshow(img)"
   ]
  },
  {
   "cell_type": "code",
   "execution_count": 35,
   "metadata": {},
   "outputs": [
    {
     "data": {
      "text/plain": [
       "<matplotlib.image.AxesImage at 0x1c2dfe639a0>"
      ]
     },
     "execution_count": 35,
     "metadata": {},
     "output_type": "execute_result"
    },
    {
     "data": {
      "image/png": "[encoded data removed]",
      "text/plain": [
       "<Figure size 432x288 with 1 Axes>"
      ]
     },
     "metadata": {
      "needs_background": "light"
     },
     "output_type": "display_data"
    }
   ],
   "source": [
    "plt.imshow(img, \"gray\")"
   ]
  },
  {
   "cell_type": "code",
   "execution_count": 49,
   "metadata": {},
   "outputs": [
    {
     "data": {
      "image/png": "[encoded data removed]",
      "text/plain": [
       "<Figure size 432x288 with 1 Axes>"
      ]
     },
     "metadata": {
      "needs_background": "light"
     },
     "output_type": "display_data"
    }
   ],
   "source": [
    "output = _erosion(img, kernel)\n",
    "# print(output)\n",
    "plt.imshow(output,\"gray\")\n",
    "plt.show()\n",
    "# output = _dilation(img, kernel)\n",
    "# plt.imshow(output)"
   ]
  },
  {
   "cell_type": "code",
   "execution_count": 37,
   "metadata": {},
   "outputs": [
    {
     "data": {
      "text/plain": [
       "<matplotlib.image.AxesImage at 0x1c2dfc09270>"
      ]
     },
     "execution_count": 37,
     "metadata": {},
     "output_type": "execute_result"
    },
    {
     "data": {
      "image/png": "[encoded data removed]",
      "text/plain": [
       "<Figure size 432x288 with 1 Axes>"
      ]
     },
     "metadata": {
      "needs_background": "light"
     },
     "output_type": "display_data"
    }
   ],
   "source": [
    "output = _dilation(output, kernel)\n",
    "plt.imshow(output, \"gray\")"
   ]
  },
  {
   "cell_type": "code",
   "execution_count": 43,
   "metadata": {},
   "outputs": [
    {
     "name": "stdout",
     "output_type": "stream",
     "text": [
      "[[ True  True  True  True  True  True  True  True  True]\n",
      " [ True  True  True  True  True  True  True  True  True]\n",
      " [ True  True  True  True  True  True  True  True  True]\n",
      " [ True  True  True  True  True  True  True  True  True]\n",
      " [ True  True  True  True False  True  True  True  True]\n",
      " [ True  True  True  True  True  True  True  True  True]\n",
      " [ True  True  True  True  True  True  True  True  True]\n",
      " [ True  True  True  True  True  True  True  True  True]\n",
      " [ True  True  True  True  True  True  True  True  True]]\n"
     ]
    }
   ],
   "source": [
    "a = cv2.erode(img, kernel, iterations=1)\n",
    "b = _erosion(img, kernel)\n",
    "print(a==b)"
   ]
  }
 ],
 "metadata": {
  "interpreter": {
   "hash": "57d011e0b9c556e1e480a37a414edaa07ffe0a21f9b36ce7b9ac58ceb90fbbce"
  },
  "kernelspec": {
   "display_name": "Python 3.10.0 ('venv': venv)",
   "language": "python",
   "name": "python3"
  },
  "language_info": {
   "codemirror_mode": {
    "name": "ipython",
    "version": 3
   },
   "file_extension": ".py",
   "mimetype": "text/x-python",
   "name": "python",
   "nbconvert_exporter": "python",
   "pygments_lexer": "ipython3",
   "version": "3.10.0"
  },
  "orig_nbformat": 4
 },
 "nbformat": 4,
 "nbformat_minor": 2
}
