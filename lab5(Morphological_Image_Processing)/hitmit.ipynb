{
 "cells": [
  {
   "cell_type": "code",
   "execution_count": 1,
   "metadata": {},
   "outputs": [],
   "source": [
    "import numpy as np\n",
    "import cv2 \n",
    "import matplotlib.pyplot as plt\n"
   ]
  },
  {
   "cell_type": "code",
   "execution_count": 13,
   "metadata": {},
   "outputs": [],
   "source": [
    "def _erosion(img, kernel):\n",
    "    kh = kernel.shape[0]//2\n",
    "    kw = kernel.shape[1]//2\n",
    "    op = np.zeros_like(img)\n",
    "    m, n = img.shape\n",
    "\n",
    "\n",
    "    for i in range(kh,m-kh):\n",
    "        for j in range(kw,n-kw):\n",
    "            flag = 1\n",
    "            for x in range(-kh, kh+1):\n",
    "                for y in range(-kw, kw+1):\n",
    "                    if (i+x)<img.shape[0] and (i+x)>=0 and (j+y)<img.shape[1] and (j+y)>=0:\n",
    "                        if kernel[x+kh][y+kw]==2:\n",
    "                            continue\n",
    "                        if kernel[x+kh][y+kw]!=img[i+x][j+y]:\n",
    "                            flag=0\n",
    "            if (flag):\n",
    "                op[i][j]=1\n",
    "            else:\n",
    "                op[i][j]=0\n",
    "    return op"
   ]
  },
  {
   "cell_type": "code",
   "execution_count": 11,
   "metadata": {},
   "outputs": [],
   "source": [
    "def _dilation(img, kernel):\n",
    "    kh = kernel.shape[0]//2\n",
    "    kw = kernel.shape[1]//2\n",
    "    op = np.zeros_like(img)\n",
    "    m, n = img.shape\n",
    "\n",
    "\n",
    "    for i in range(m):\n",
    "        for j in range(n):\n",
    "            flag = 0\n",
    "            for x in range(-kh, kh+1):\n",
    "                for y in range(-kw, kw+1):\n",
    "                    if (i-x)<img.shape[0] and (i-x)>=0 and (j-y)<img.shape[1] and (j-y)>=0:\n",
    "                        if kernel[x+kh][y+kw]==2:\n",
    "                            continue\n",
    "                        if kernel[x+kh][y+kw]==img[i-x][j-y]:\n",
    "                            flag=1\n",
    "            if (flag):\n",
    "                op[i][j]=1\n",
    "            else:\n",
    "                op[i][j]=0\n",
    "    return op"
   ]
  },
  {
   "cell_type": "code",
   "execution_count": 17,
   "metadata": {},
   "outputs": [
    {
     "data": {
      "text/plain": [
       "<matplotlib.image.AxesImage at 0x24cf3e01e10>"
      ]
     },
     "execution_count": 17,
     "metadata": {},
     "output_type": "execute_result"
    },
    {
     "data": {
      "image/png": "[encoded data removed]",
      "text/plain": [
       "<Figure size 432x288 with 1 Axes>"
      ]
     },
     "metadata": {
      "needs_background": "light"
     },
     "output_type": "display_data"
    }
   ],
   "source": [
    "img = np.zeros((6,12), np.uint8)\n",
    "img[1:5,1:4]=img[2:5,8:11]=1\n",
    "plt.imshow(img)"
   ]
  },
  {
   "cell_type": "code",
   "execution_count": 18,
   "metadata": {},
   "outputs": [
    {
     "data": {
      "image/png": "[encoded data removed]",
      "text/plain": [
       "<Figure size 432x288 with 1 Axes>"
      ]
     },
     "metadata": {
      "needs_background": "light"
     },
     "output_type": "display_data"
    },
    {
     "data": {
      "text/plain": [
       "<matplotlib.image.AxesImage at 0x24cf3ec3940>"
      ]
     },
     "execution_count": 18,
     "metadata": {},
     "output_type": "execute_result"
    },
    {
     "data": {
      "image/png": "[encoded data removed]",
      "text/plain": [
       "<Figure size 432x288 with 1 Axes>"
      ]
     },
     "metadata": {
      "needs_background": "light"
     },
     "output_type": "display_data"
    }
   ],
   "source": [
    "w = np.ones((5,5), np.uint8)\n",
    "plt.imshow(w)\n",
    "plt.show()\n",
    "x = np.ones((3,3), np.uint8)\n",
    "plt.imshow(x)"
   ]
  },
  {
   "cell_type": "code",
   "execution_count": 19,
   "metadata": {},
   "outputs": [
    {
     "data": {
      "text/plain": [
       "<matplotlib.image.AxesImage at 0x24cf3f259f0>"
      ]
     },
     "execution_count": 19,
     "metadata": {},
     "output_type": "execute_result"
    },
    {
     "data": {
      "image/png": "[encoded data removed]",
      "text/plain": [
       "<Figure size 432x288 with 1 Axes>"
      ]
     },
     "metadata": {
      "needs_background": "light"
     },
     "output_type": "display_data"
    }
   ],
   "source": [
    "out1 = _erosion(img, x)\n",
    "plt.imshow(out1)"
   ]
  },
  {
   "cell_type": "code",
   "execution_count": 26,
   "metadata": {},
   "outputs": [
    {
     "data": {
      "text/plain": [
       "<matplotlib.image.AxesImage at 0x24cf401fe20>"
      ]
     },
     "execution_count": 26,
     "metadata": {},
     "output_type": "execute_result"
    },
    {
     "data": {
      "image/png": "[encoded data removed]",
      "text/plain": [
       "<Figure size 432x288 with 1 Axes>"
      ]
     },
     "metadata": {
      "needs_background": "light"
     },
     "output_type": "display_data"
    }
   ],
   "source": [
    "d = (w.shape[0]-x.shape[0])//2\n",
    "xpad = cv2.copyMakeBorder(x, d,d,d,d, cv2.BORDER_CONSTANT, (0,0,0))\n",
    "wminusx = w - xpad\n",
    "\n",
    "plt.imshow(wminusx)"
   ]
  },
  {
   "cell_type": "code",
   "execution_count": 28,
   "metadata": {},
   "outputs": [
    {
     "data": {
      "text/plain": [
       "<matplotlib.image.AxesImage at 0x24cf3e4f5e0>"
      ]
     },
     "execution_count": 28,
     "metadata": {},
     "output_type": "execute_result"
    },
    {
     "data": {
      "image/png": "[encoded data removed]",
      "text/plain": [
       "<Figure size 432x288 with 1 Axes>"
      ]
     },
     "metadata": {
      "needs_background": "light"
     },
     "output_type": "display_data"
    }
   ],
   "source": [
    "Ac = 1 - img\n",
    "plt.imshow(Ac)"
   ]
  },
  {
   "cell_type": "code",
   "execution_count": 29,
   "metadata": {},
   "outputs": [
    {
     "data": {
      "text/plain": [
       "<matplotlib.image.AxesImage at 0x24cf22e6dd0>"
      ]
     },
     "execution_count": 29,
     "metadata": {},
     "output_type": "execute_result"
    },
    {
     "data": {
      "image/png": "[encoded data removed]",
      "text/plain": [
       "<Figure size 432x288 with 1 Axes>"
      ]
     },
     "metadata": {
      "needs_background": "light"
     },
     "output_type": "display_data"
    }
   ],
   "source": [
    "out2 = _erosion(Ac, wminusx)\n",
    "plt.imshow(out2)"
   ]
  },
  {
   "cell_type": "code",
   "execution_count": 31,
   "metadata": {},
   "outputs": [
    {
     "data": {
      "text/plain": [
       "<matplotlib.image.AxesImage at 0x24cf3f4a860>"
      ]
     },
     "execution_count": 31,
     "metadata": {},
     "output_type": "execute_result"
    },
    {
     "data": {
      "image/png": "[encoded data removed]",
      "text/plain": [
       "<Figure size 432x288 with 1 Axes>"
      ]
     },
     "metadata": {
      "needs_background": "light"
     },
     "output_type": "display_data"
    }
   ],
   "source": [
    "out3 = np.bitwise_and(out1, out2)\n",
    "plt.imshow(out3)"
   ]
  }
 ],
 "metadata": {
  "kernelspec": {
   "display_name": "Python 3.10.0 ('venv': venv)",
   "language": "python",
   "name": "python3"
  },
  "language_info": {
   "codemirror_mode": {
    "name": "ipython",
    "version": 3
   },
   "file_extension": ".py",
   "mimetype": "text/x-python",
   "name": "python",
   "nbconvert_exporter": "python",
   "pygments_lexer": "ipython3",
   "version": "3.10.0"
  },
  "orig_nbformat": 4,
  "vscode": {
   "interpreter": {
    "hash": "57d011e0b9c556e1e480a37a414edaa07ffe0a21f9b36ce7b9ac58ceb90fbbce"
   }
  }
 },
 "nbformat": 4,
 "nbformat_minor": 2
}
