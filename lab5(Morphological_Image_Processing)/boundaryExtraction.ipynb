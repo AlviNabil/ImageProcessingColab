{
 "cells": [
  {
   "cell_type": "code",
   "execution_count": 1,
   "metadata": {},
   "outputs": [],
   "source": [
    "import numpy as np\n",
    "import cv2 \n",
    "import matplotlib.pyplot as plt"
   ]
  },
  {
   "cell_type": "code",
   "execution_count": 2,
   "metadata": {},
   "outputs": [],
   "source": [
    "def _erosion(img, kernel):\n",
    "    kh = kernel.shape[0]//2\n",
    "    kw = kernel.shape[1]//2\n",
    "    op = np.zeros_like(img)\n",
    "    m, n = img.shape\n",
    "\n",
    "\n",
    "    for i in range(kh,m-kh):\n",
    "        for j in range(kw,n-kw):\n",
    "            flag = 1\n",
    "            for x in range(-kh, kh+1):\n",
    "                for y in range(-kw, kw+1):\n",
    "                    if (i+x)<img.shape[0] and (i+x)>=0 and (j+y)<img.shape[1] and (j+y)>=0:\n",
    "                        if kernel[x+kh][y+kw]==2:\n",
    "                            continue\n",
    "                        if kernel[x+kh][y+kw]!=img[i+x][j+y]:\n",
    "                            flag=0\n",
    "            if (flag):\n",
    "                op[i][j]=1\n",
    "            else:\n",
    "                op[i][j]=0\n",
    "    return op"
   ]
  },
  {
   "cell_type": "code",
   "execution_count": 3,
   "metadata": {},
   "outputs": [],
   "source": [
    "def _dilation(img, kernel):\n",
    "    kh = kernel.shape[0]//2\n",
    "    kw = kernel.shape[1]//2\n",
    "    op = np.zeros_like(img)\n",
    "    m, n = img.shape\n",
    "\n",
    "\n",
    "    for i in range(m):\n",
    "        for j in range(n):\n",
    "            flag = 0\n",
    "            for x in range(-kh, kh+1):\n",
    "                for y in range(-kw, kw+1):\n",
    "                    if (i-x)<img.shape[0] and (i-x)>=0 and (j-y)<img.shape[1] and (j-y)>=0:\n",
    "                        if kernel[x+kh][y+kw]==2:\n",
    "                            continue\n",
    "                        if kernel[x+kh][y+kw]==img[i-x][j-y]:\n",
    "                            flag=1\n",
    "            if (flag):\n",
    "                op[i][j]=1\n",
    "            else:\n",
    "                op[i][j]=0\n",
    "    return op"
   ]
  },
  {
   "cell_type": "code",
   "execution_count": 6,
   "metadata": {},
   "outputs": [
    {
     "data": {
      "text/plain": [
       "<matplotlib.image.AxesImage at 0x1b6b2030c70>"
      ]
     },
     "execution_count": 6,
     "metadata": {},
     "output_type": "execute_result"
    },
    {
     "data": {
      "image/png": "[encoded data removed]",
      "text/plain": [
       "<Figure size 432x288 with 1 Axes>"
      ]
     },
     "metadata": {
      "needs_background": "light"
     },
     "output_type": "display_data"
    }
   ],
   "source": [
    "img = np.zeros((10,12), np.uint8)\n",
    "img[2:6,2:9]=img[1,3:8]=img[6,6:9] =1\n",
    "plt.imshow(img)"
   ]
  },
  {
   "cell_type": "code",
   "execution_count": 7,
   "metadata": {},
   "outputs": [
    {
     "data": {
      "text/plain": [
       "<matplotlib.image.AxesImage at 0x1b6b206e0b0>"
      ]
     },
     "execution_count": 7,
     "metadata": {},
     "output_type": "execute_result"
    },
    {
     "data": {
      "image/png": "[encoded data removed]",
      "text/plain": [
       "<Figure size 432x288 with 1 Axes>"
      ]
     },
     "metadata": {
      "needs_background": "light"
     },
     "output_type": "display_data"
    }
   ],
   "source": [
    "se = np.ones((3,3), np.uint8)\n",
    "plt.imshow(se)"
   ]
  },
  {
   "cell_type": "code",
   "execution_count": 8,
   "metadata": {},
   "outputs": [
    {
     "data": {
      "text/plain": [
       "<matplotlib.image.AxesImage at 0x1b6b20b8a00>"
      ]
     },
     "execution_count": 8,
     "metadata": {},
     "output_type": "execute_result"
    },
    {
     "data": {
      "image/png": "[encoded data removed]",
      "text/plain": [
       "<Figure size 432x288 with 1 Axes>"
      ]
     },
     "metadata": {
      "needs_background": "light"
     },
     "output_type": "display_data"
    }
   ],
   "source": [
    "out = _erosion(img, se)\n",
    "plt.imshow(out)"
   ]
  },
  {
   "cell_type": "code",
   "execution_count": 9,
   "metadata": {},
   "outputs": [
    {
     "data": {
      "text/plain": [
       "<matplotlib.image.AxesImage at 0x1b6b20f71c0>"
      ]
     },
     "execution_count": 9,
     "metadata": {},
     "output_type": "execute_result"
    },
    {
     "data": {
      "image/png": "[encoded data removed]",
      "text/plain": [
       "<Figure size 432x288 with 1 Axes>"
      ]
     },
     "metadata": {
      "needs_background": "light"
     },
     "output_type": "display_data"
    }
   ],
   "source": [
    "plt.imshow(img-out)"
   ]
  }
 ],
 "metadata": {
  "kernelspec": {
   "display_name": "Python 3.10.0 ('venv': venv)",
   "language": "python",
   "name": "python3"
  },
  "language_info": {
   "codemirror_mode": {
    "name": "ipython",
    "version": 3
   },
   "file_extension": ".py",
   "mimetype": "text/x-python",
   "name": "python",
   "nbconvert_exporter": "python",
   "pygments_lexer": "ipython3",
   "version": "3.10.0"
  },
  "orig_nbformat": 4,
  "vscode": {
   "interpreter": {
    "hash": "57d011e0b9c556e1e480a37a414edaa07ffe0a21f9b36ce7b9ac58ceb90fbbce"
   }
  }
 },
 "nbformat": 4,
 "nbformat_minor": 2
}
